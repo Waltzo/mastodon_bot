{
 "cells": [
  {
   "cell_type": "code",
   "execution_count": null,
   "id": "65aabec9",
   "metadata": {},
   "outputs": [],
   "source": [
    "import re\n",
    "from bs4 import BeautifulSoup\n",
    "\n",
    "CLEANER = re.compile(r'[^\\w\\s\\[\\]/,\\*@\\\"\\.\\?\\(\\)\\+]')\n",
    "\n",
    "def filterText(rawText, CLEANER = CLEANER):\n",
    "    soup = BeautifulSoup(rawText, 'html.parser')\n",
    "    parsed_text = soup.get_text(strip=True)\n",
    "    return re.sub(CLEANER, '', parsed_text)"
   ]
  }
 ],
 "metadata": {
  "kernelspec": {
   "display_name": ".venv",
   "language": "python",
   "name": "python3"
  },
  "language_info": {
   "codemirror_mode": {
    "name": "ipython",
    "version": 3
   },
   "file_extension": ".py",
   "mimetype": "text/x-python",
   "name": "python",
   "nbconvert_exporter": "python",
   "pygments_lexer": "ipython3",
   "version": "3.11.13"
  }
 },
 "nbformat": 4,
 "nbformat_minor": 5
}
